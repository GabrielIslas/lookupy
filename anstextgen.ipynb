{
 "cells": [
  {
   "cell_type": "code",
   "execution_count": 1,
   "metadata": {},
   "outputs": [],
   "source": [
    "from openai import OpenAI"
   ]
  },
  {
   "cell_type": "code",
   "execution_count": 2,
   "metadata": {},
   "outputs": [],
   "source": [
    "client = OpenAI()"
   ]
  },
  {
   "cell_type": "code",
   "execution_count": 4,
   "metadata": {},
   "outputs": [],
   "source": [
    "# testing it works with their example\n",
    "completion = client.chat.completions.create(\n",
    "  model=\"gpt-3.5-turbo\",\n",
    "  messages=[\n",
    "    {\"role\": \"system\", \"content\": \"You are a poetic assistant, skilled in explaining complex programming concepts with creative flair.\"},\n",
    "    {\"role\": \"user\", \"content\": \"Compose a poem that explains the concept of recursion in programming.\"}\n",
    "  ]\n",
    ")"
   ]
  },
  {
   "cell_type": "code",
   "execution_count": 5,
   "metadata": {},
   "outputs": [
    {
     "data": {
      "text/plain": [
       "ChatCompletionMessage(content=\"In the realm of programming's dance,\\nThere lies a step, known as recursion's chance.\\nA ballet of loops, elegant and free,\\nUnraveling mysteries, just wait and see.\\n\\nThrough the corridors of logic, it strides,\\nA recursive call, where beauty resides.\\nA function that calls itself, oh so daring,\\nUnfolding the secrets, worlds it's sharing.\\n\\nImagine a tree, branches intertwined,\\nEach node connecting, through its essence binded.\\nFrom its roots it grows, reaching to the skies,\\nFulfilling its purpose, a cycle that lies.\\n\\nWith grace it explores, ever looping,\\nSolving puzzles, under moonlit swooping.\\nLike a mirror reflecting, from start to end,\\nRecursive steps follow, a path on which they depend.\\n\\nBy diving deeper into the tangled mass,\\nFragments of truth, in a recursive impasse.\\nDivide and conquer, the mantra it chants,\\nSimplifying complexities, the artistry it plants.\\n\\nInfinite spirals, spiraling through,\\nInception within, like dreams that ensue.\\nLayers upon layers, recursive's disguise,\\nUnraveling enigmas, with each iteration tried.\\n\\nAnd as the iterations continue to unfold,\\nStacked upon each other, a tapestry untold.\\nFrom base case to recursion, an ardent tale,\\nBringing order to chaos, a wondrous scale.\\n\\nYet, caution must be taken, a warning to heed,\\nFor a runaway loop, recursion's bad deed.\\nA balance we strike, between depth and height,\\nTo prevent errors, in the coding's sight.\\n\\nSo embrace the concept, with open arms,\\nRecursion's embrace, no need for qualms.\\nFor in the world of programming's grand design,\\nRecursive brilliance, forever will shine.\", role='assistant', function_call=None, tool_calls=None)"
      ]
     },
     "execution_count": 5,
     "metadata": {},
     "output_type": "execute_result"
    }
   ],
   "source": [
    "completion.choices[0].message"
   ]
  },
  {
   "cell_type": "code",
   "execution_count": 7,
   "metadata": {},
   "outputs": [],
   "source": [
    "prompt = \"Who is the coordinator of cybersecurity?\"\n",
    "answer = \"José Ángel Anastacia\""
   ]
  },
  {
   "cell_type": "code",
   "execution_count": 8,
   "metadata": {},
   "outputs": [],
   "source": [
    "completion = client.chat.completions.create(\n",
    "    model = \"gpt-3.5-turbo\",\n",
    "    messages=[\n",
    "        {\"role\": \"system\", \"content\": \"You are a chatbot for a university that helps students get information to guide themselves\"},\n",
    "        {\"role\": \"user\", \"content\": \"Answer the prompt \" + prompt + \" knowing that the answer is \" + answer}\n",
    "    ]\n",
    ")"
   ]
  },
  {
   "cell_type": "code",
   "execution_count": 9,
   "metadata": {},
   "outputs": [
    {
     "data": {
      "text/plain": [
       "ChatCompletionMessage(content='The coordinator of cybersecurity at our university is José Ángel Anastacia.', role='assistant', function_call=None, tool_calls=None)"
      ]
     },
     "execution_count": 9,
     "metadata": {},
     "output_type": "execute_result"
    }
   ],
   "source": [
    "completion.choices[0].message"
   ]
  }
 ],
 "metadata": {
  "kernelspec": {
   "display_name": "nlpupy_env",
   "language": "python",
   "name": "python3"
  },
  "language_info": {
   "codemirror_mode": {
    "name": "ipython",
    "version": 3
   },
   "file_extension": ".py",
   "mimetype": "text/x-python",
   "name": "python",
   "nbconvert_exporter": "python",
   "pygments_lexer": "ipython3",
   "version": "3.11.2"
  }
 },
 "nbformat": 4,
 "nbformat_minor": 2
}
