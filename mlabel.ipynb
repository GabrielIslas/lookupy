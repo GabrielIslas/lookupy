{
 "cells": [
  {
   "cell_type": "markdown",
   "metadata": {},
   "source": [
    "# Creating multi label classification model LookUPY"
   ]
  },
  {
   "cell_type": "code",
   "execution_count": 1,
   "metadata": {},
   "outputs": [
    {
     "name": "stderr",
     "output_type": "stream",
     "text": [
      "/home/gabriel/Documentos/finalproject/nlpupy_env/lib/python3.11/site-packages/tqdm/auto.py:21: TqdmWarning: IProgress not found. Please update jupyter and ipywidgets. See https://ipywidgets.readthedocs.io/en/stable/user_install.html\n",
      "  from .autonotebook import tqdm as notebook_tqdm\n"
     ]
    }
   ],
   "source": [
    "from sklearn.preprocessing import LabelEncoder\n",
    "from transformers import BertTokenizer, AutoModelForSequenceClassification, Trainer, TrainingArguments\n",
    "import pandas as pd\n",
    "from datasets import load_dataset\n",
    "import torch\n",
    "from sklearn.model_selection import train_test_split\n",
    "import numpy as np\n",
    "from sklearn.metrics import f1_score, roc_auc_score, accuracy_score\n",
    "from transformers import EvalPrediction"
   ]
  },
  {
   "cell_type": "markdown",
   "metadata": {},
   "source": [
    "Tokenizer for BERT model"
   ]
  },
  {
   "cell_type": "code",
   "execution_count": 2,
   "metadata": {},
   "outputs": [],
   "source": [
    "tokenizer = BertTokenizer.from_pretrained(\"bert-base-uncased\")"
   ]
  },
  {
   "cell_type": "markdown",
   "metadata": {},
   "source": [
    "Reading in csv with labeled prompts \\\n",
    "1 means the label applies to the prompt, 0 means it does not"
   ]
  },
  {
   "cell_type": "code",
   "execution_count": 3,
   "metadata": {},
   "outputs": [
    {
     "data": {
      "text/html": [
       "<div>\n",
       "<style scoped>\n",
       "    .dataframe tbody tr th:only-of-type {\n",
       "        vertical-align: middle;\n",
       "    }\n",
       "\n",
       "    .dataframe tbody tr th {\n",
       "        vertical-align: top;\n",
       "    }\n",
       "\n",
       "    .dataframe thead th {\n",
       "        text-align: right;\n",
       "    }\n",
       "</style>\n",
       "<table border=\"1\" class=\"dataframe\">\n",
       "  <thead>\n",
       "    <tr style=\"text-align: right;\">\n",
       "      <th></th>\n",
       "      <th>text</th>\n",
       "      <th>wherestudent</th>\n",
       "      <th>whereadmin</th>\n",
       "      <th>whereprof</th>\n",
       "      <th>whereperson</th>\n",
       "      <th>wherebuild</th>\n",
       "      <th>whereclassroom</th>\n",
       "      <th>classesprofessor</th>\n",
       "      <th>subjectprofessors</th>\n",
       "      <th>studenttutor</th>\n",
       "      <th>grouptutor</th>\n",
       "      <th>classroomoccupied</th>\n",
       "      <th>groupstudents</th>\n",
       "      <th>groupclasses</th>\n",
       "      <th>groupclassroom</th>\n",
       "      <th>careergroups</th>\n",
       "      <th>careercoord</th>\n",
       "      <th>time</th>\n",
       "    </tr>\n",
       "  </thead>\n",
       "  <tbody>\n",
       "    <tr>\n",
       "      <th>0</th>\n",
       "      <td>Where can I find the student Elizabeth Ramos?</td>\n",
       "      <td>1</td>\n",
       "      <td>0</td>\n",
       "      <td>0</td>\n",
       "      <td>1</td>\n",
       "      <td>0</td>\n",
       "      <td>0</td>\n",
       "      <td>0</td>\n",
       "      <td>0</td>\n",
       "      <td>0</td>\n",
       "      <td>0</td>\n",
       "      <td>0</td>\n",
       "      <td>0</td>\n",
       "      <td>0</td>\n",
       "      <td>0</td>\n",
       "      <td>0</td>\n",
       "      <td>0</td>\n",
       "      <td>0</td>\n",
       "    </tr>\n",
       "    <tr>\n",
       "      <th>1</th>\n",
       "      <td>How do I locate student Rayner Mathew?</td>\n",
       "      <td>1</td>\n",
       "      <td>0</td>\n",
       "      <td>0</td>\n",
       "      <td>1</td>\n",
       "      <td>0</td>\n",
       "      <td>0</td>\n",
       "      <td>0</td>\n",
       "      <td>0</td>\n",
       "      <td>0</td>\n",
       "      <td>0</td>\n",
       "      <td>0</td>\n",
       "      <td>0</td>\n",
       "      <td>0</td>\n",
       "      <td>0</td>\n",
       "      <td>0</td>\n",
       "      <td>0</td>\n",
       "      <td>0</td>\n",
       "    </tr>\n",
       "    <tr>\n",
       "      <th>2</th>\n",
       "      <td>I'm trying to find the student Rayner Mathew. ...</td>\n",
       "      <td>1</td>\n",
       "      <td>0</td>\n",
       "      <td>0</td>\n",
       "      <td>1</td>\n",
       "      <td>0</td>\n",
       "      <td>0</td>\n",
       "      <td>0</td>\n",
       "      <td>0</td>\n",
       "      <td>0</td>\n",
       "      <td>0</td>\n",
       "      <td>0</td>\n",
       "      <td>0</td>\n",
       "      <td>0</td>\n",
       "      <td>0</td>\n",
       "      <td>0</td>\n",
       "      <td>0</td>\n",
       "      <td>0</td>\n",
       "    </tr>\n",
       "    <tr>\n",
       "      <th>3</th>\n",
       "      <td>I'm looking for this student: Emily Davis</td>\n",
       "      <td>1</td>\n",
       "      <td>0</td>\n",
       "      <td>0</td>\n",
       "      <td>1</td>\n",
       "      <td>0</td>\n",
       "      <td>0</td>\n",
       "      <td>0</td>\n",
       "      <td>0</td>\n",
       "      <td>0</td>\n",
       "      <td>0</td>\n",
       "      <td>0</td>\n",
       "      <td>0</td>\n",
       "      <td>0</td>\n",
       "      <td>0</td>\n",
       "      <td>0</td>\n",
       "      <td>0</td>\n",
       "      <td>0</td>\n",
       "    </tr>\n",
       "    <tr>\n",
       "      <th>4</th>\n",
       "      <td>Where is Sandalio Leith currently located with...</td>\n",
       "      <td>1</td>\n",
       "      <td>0</td>\n",
       "      <td>0</td>\n",
       "      <td>1</td>\n",
       "      <td>0</td>\n",
       "      <td>0</td>\n",
       "      <td>0</td>\n",
       "      <td>0</td>\n",
       "      <td>0</td>\n",
       "      <td>0</td>\n",
       "      <td>0</td>\n",
       "      <td>0</td>\n",
       "      <td>0</td>\n",
       "      <td>0</td>\n",
       "      <td>0</td>\n",
       "      <td>0</td>\n",
       "      <td>0</td>\n",
       "    </tr>\n",
       "    <tr>\n",
       "      <th>...</th>\n",
       "      <td>...</td>\n",
       "      <td>...</td>\n",
       "      <td>...</td>\n",
       "      <td>...</td>\n",
       "      <td>...</td>\n",
       "      <td>...</td>\n",
       "      <td>...</td>\n",
       "      <td>...</td>\n",
       "      <td>...</td>\n",
       "      <td>...</td>\n",
       "      <td>...</td>\n",
       "      <td>...</td>\n",
       "      <td>...</td>\n",
       "      <td>...</td>\n",
       "      <td>...</td>\n",
       "      <td>...</td>\n",
       "      <td>...</td>\n",
       "      <td>...</td>\n",
       "    </tr>\n",
       "    <tr>\n",
       "      <th>1317</th>\n",
       "      <td>Where is the class of the group Cybersecurity ...</td>\n",
       "      <td>0</td>\n",
       "      <td>0</td>\n",
       "      <td>0</td>\n",
       "      <td>0</td>\n",
       "      <td>0</td>\n",
       "      <td>0</td>\n",
       "      <td>0</td>\n",
       "      <td>0</td>\n",
       "      <td>0</td>\n",
       "      <td>0</td>\n",
       "      <td>0</td>\n",
       "      <td>0</td>\n",
       "      <td>0</td>\n",
       "      <td>1</td>\n",
       "      <td>0</td>\n",
       "      <td>0</td>\n",
       "      <td>0</td>\n",
       "    </tr>\n",
       "    <tr>\n",
       "      <th>1318</th>\n",
       "      <td>Can you tell me the classroom location of Cybe...</td>\n",
       "      <td>0</td>\n",
       "      <td>0</td>\n",
       "      <td>0</td>\n",
       "      <td>0</td>\n",
       "      <td>0</td>\n",
       "      <td>0</td>\n",
       "      <td>0</td>\n",
       "      <td>0</td>\n",
       "      <td>0</td>\n",
       "      <td>0</td>\n",
       "      <td>0</td>\n",
       "      <td>0</td>\n",
       "      <td>0</td>\n",
       "      <td>1</td>\n",
       "      <td>0</td>\n",
       "      <td>0</td>\n",
       "      <td>0</td>\n",
       "    </tr>\n",
       "    <tr>\n",
       "      <th>1319</th>\n",
       "      <td>Can you tell me the classroom location of Embe...</td>\n",
       "      <td>0</td>\n",
       "      <td>0</td>\n",
       "      <td>0</td>\n",
       "      <td>0</td>\n",
       "      <td>0</td>\n",
       "      <td>0</td>\n",
       "      <td>0</td>\n",
       "      <td>0</td>\n",
       "      <td>0</td>\n",
       "      <td>0</td>\n",
       "      <td>0</td>\n",
       "      <td>0</td>\n",
       "      <td>0</td>\n",
       "      <td>1</td>\n",
       "      <td>0</td>\n",
       "      <td>0</td>\n",
       "      <td>0</td>\n",
       "    </tr>\n",
       "    <tr>\n",
       "      <th>1320</th>\n",
       "      <td>What is the classroom assigned to Data 4B?</td>\n",
       "      <td>0</td>\n",
       "      <td>0</td>\n",
       "      <td>0</td>\n",
       "      <td>0</td>\n",
       "      <td>0</td>\n",
       "      <td>0</td>\n",
       "      <td>0</td>\n",
       "      <td>0</td>\n",
       "      <td>0</td>\n",
       "      <td>0</td>\n",
       "      <td>0</td>\n",
       "      <td>0</td>\n",
       "      <td>0</td>\n",
       "      <td>1</td>\n",
       "      <td>0</td>\n",
       "      <td>0</td>\n",
       "      <td>0</td>\n",
       "    </tr>\n",
       "    <tr>\n",
       "      <th>1321</th>\n",
       "      <td>Which classroom does the group Data 6C use?</td>\n",
       "      <td>0</td>\n",
       "      <td>0</td>\n",
       "      <td>0</td>\n",
       "      <td>0</td>\n",
       "      <td>0</td>\n",
       "      <td>0</td>\n",
       "      <td>0</td>\n",
       "      <td>0</td>\n",
       "      <td>0</td>\n",
       "      <td>0</td>\n",
       "      <td>0</td>\n",
       "      <td>0</td>\n",
       "      <td>0</td>\n",
       "      <td>1</td>\n",
       "      <td>0</td>\n",
       "      <td>0</td>\n",
       "      <td>0</td>\n",
       "    </tr>\n",
       "  </tbody>\n",
       "</table>\n",
       "<p>1322 rows × 18 columns</p>\n",
       "</div>"
      ],
      "text/plain": [
       "                                                   text  wherestudent  \\\n",
       "0         Where can I find the student Elizabeth Ramos?             1   \n",
       "1               How do I locate student Rayner Mathew?              1   \n",
       "2     I'm trying to find the student Rayner Mathew. ...             1   \n",
       "3             I'm looking for this student: Emily Davis             1   \n",
       "4     Where is Sandalio Leith currently located with...             1   \n",
       "...                                                 ...           ...   \n",
       "1317  Where is the class of the group Cybersecurity ...             0   \n",
       "1318  Can you tell me the classroom location of Cybe...             0   \n",
       "1319  Can you tell me the classroom location of Embe...             0   \n",
       "1320         What is the classroom assigned to Data 4B?             0   \n",
       "1321        Which classroom does the group Data 6C use?             0   \n",
       "\n",
       "      whereadmin  whereprof  whereperson  wherebuild  whereclassroom  \\\n",
       "0              0          0            1           0               0   \n",
       "1              0          0            1           0               0   \n",
       "2              0          0            1           0               0   \n",
       "3              0          0            1           0               0   \n",
       "4              0          0            1           0               0   \n",
       "...          ...        ...          ...         ...             ...   \n",
       "1317           0          0            0           0               0   \n",
       "1318           0          0            0           0               0   \n",
       "1319           0          0            0           0               0   \n",
       "1320           0          0            0           0               0   \n",
       "1321           0          0            0           0               0   \n",
       "\n",
       "      classesprofessor  subjectprofessors  studenttutor  grouptutor  \\\n",
       "0                    0                  0             0           0   \n",
       "1                    0                  0             0           0   \n",
       "2                    0                  0             0           0   \n",
       "3                    0                  0             0           0   \n",
       "4                    0                  0             0           0   \n",
       "...                ...                ...           ...         ...   \n",
       "1317                 0                  0             0           0   \n",
       "1318                 0                  0             0           0   \n",
       "1319                 0                  0             0           0   \n",
       "1320                 0                  0             0           0   \n",
       "1321                 0                  0             0           0   \n",
       "\n",
       "      classroomoccupied  groupstudents  groupclasses  groupclassroom  \\\n",
       "0                     0              0             0               0   \n",
       "1                     0              0             0               0   \n",
       "2                     0              0             0               0   \n",
       "3                     0              0             0               0   \n",
       "4                     0              0             0               0   \n",
       "...                 ...            ...           ...             ...   \n",
       "1317                  0              0             0               1   \n",
       "1318                  0              0             0               1   \n",
       "1319                  0              0             0               1   \n",
       "1320                  0              0             0               1   \n",
       "1321                  0              0             0               1   \n",
       "\n",
       "      careergroups  careercoord  time  \n",
       "0                0            0     0  \n",
       "1                0            0     0  \n",
       "2                0            0     0  \n",
       "3                0            0     0  \n",
       "4                0            0     0  \n",
       "...            ...          ...   ...  \n",
       "1317             0            0     0  \n",
       "1318             0            0     0  \n",
       "1319             0            0     0  \n",
       "1320             0            0     0  \n",
       "1321             0            0     0  \n",
       "\n",
       "[1322 rows x 18 columns]"
      ]
     },
     "execution_count": 3,
     "metadata": {},
     "output_type": "execute_result"
    }
   ],
   "source": [
    "df = pd.read_csv(\"taggedprompts.csv\")\n",
    "df"
   ]
  },
  {
   "cell_type": "markdown",
   "metadata": {},
   "source": [
    "Something the model needs is a way to transform the labels into ids and back \\\n",
    "Let's extract the labels"
   ]
  },
  {
   "cell_type": "code",
   "execution_count": 4,
   "metadata": {},
   "outputs": [
    {
     "data": {
      "text/plain": [
       "['wherestudent',\n",
       " 'whereadmin',\n",
       " 'whereprof',\n",
       " 'whereperson',\n",
       " 'wherebuild',\n",
       " 'whereclassroom',\n",
       " 'classesprofessor',\n",
       " 'subjectprofessors',\n",
       " 'studenttutor',\n",
       " 'grouptutor',\n",
       " 'classroomoccupied',\n",
       " 'groupstudents',\n",
       " 'groupclasses',\n",
       " 'groupclassroom',\n",
       " 'careergroups',\n",
       " 'careercoord',\n",
       " 'time']"
      ]
     },
     "execution_count": 4,
     "metadata": {},
     "output_type": "execute_result"
    }
   ],
   "source": [
    "labels = list(df.columns)\n",
    "labels.remove(\"text\")\n",
    "labels"
   ]
  },
  {
   "cell_type": "markdown",
   "metadata": {},
   "source": [
    "This dictionary translates ids to labels"
   ]
  },
  {
   "cell_type": "code",
   "execution_count": 5,
   "metadata": {},
   "outputs": [
    {
     "data": {
      "text/plain": [
       "{0: 'wherestudent',\n",
       " 1: 'whereadmin',\n",
       " 2: 'whereprof',\n",
       " 3: 'whereperson',\n",
       " 4: 'wherebuild',\n",
       " 5: 'whereclassroom',\n",
       " 6: 'classesprofessor',\n",
       " 7: 'subjectprofessors',\n",
       " 8: 'studenttutor',\n",
       " 9: 'grouptutor',\n",
       " 10: 'classroomoccupied',\n",
       " 11: 'groupstudents',\n",
       " 12: 'groupclasses',\n",
       " 13: 'groupclassroom',\n",
       " 14: 'careergroups',\n",
       " 15: 'careercoord',\n",
       " 16: 'time'}"
      ]
     },
     "execution_count": 5,
     "metadata": {},
     "output_type": "execute_result"
    }
   ],
   "source": [
    "id2label = {idx:label for idx,label in enumerate(labels)}\n",
    "id2label"
   ]
  },
  {
   "cell_type": "markdown",
   "metadata": {},
   "source": [
    "This one translates labels to ids"
   ]
  },
  {
   "cell_type": "code",
   "execution_count": 6,
   "metadata": {},
   "outputs": [
    {
     "data": {
      "text/plain": [
       "{'wherestudent': 0,\n",
       " 'whereadmin': 1,\n",
       " 'whereprof': 2,\n",
       " 'whereperson': 3,\n",
       " 'wherebuild': 4,\n",
       " 'whereclassroom': 5,\n",
       " 'classesprofessor': 6,\n",
       " 'subjectprofessors': 7,\n",
       " 'studenttutor': 8,\n",
       " 'grouptutor': 9,\n",
       " 'classroomoccupied': 10,\n",
       " 'groupstudents': 11,\n",
       " 'groupclasses': 12,\n",
       " 'groupclassroom': 13,\n",
       " 'careergroups': 14,\n",
       " 'careercoord': 15,\n",
       " 'time': 16}"
      ]
     },
     "execution_count": 6,
     "metadata": {},
     "output_type": "execute_result"
    }
   ],
   "source": [
    "label2id = {label:idx for idx, label in enumerate(labels)}\n",
    "label2id"
   ]
  },
  {
   "cell_type": "markdown",
   "metadata": {},
   "source": [
    "I want to get random samples from my prompts dataset \\\n",
    "but I want them to be balanced depending on their labeling \\\n",
    "that way, the model will learn equally all types of prompts I have an interest on \\\n",
    "Let's create a column that uniquely describes them \\\n",
    "This will allow me to stratify the samples."
   ]
  },
  {
   "cell_type": "code",
   "execution_count": 7,
   "metadata": {},
   "outputs": [],
   "source": [
    "# Creating a combined column for stratification\n",
    "df['stratify_col'] = df['wherestudent'].astype(str) + \"_\" + df['whereadmin'].astype(str) + \"_\" + \\\n",
    "                     df['whereprof'].astype(str) + \"_\" + df['whereperson'].astype(str) + \"_\" + \\\n",
    "                     df['wherebuild'].astype(str) + \"_\" + df['whereclassroom'].astype(str) + \"_\" + \\\n",
    "                     df['classesprofessor'].astype(str) + \"_\" + df['subjectprofessors'].astype(str) + \"_\" + \\\n",
    "                     df['studenttutor'].astype(str) + \"_\" + df['grouptutor'].astype(str) + \"_\" + \\\n",
    "                     df['classroomoccupied'].astype(str) + \"_\" + df['groupstudents'].astype(str) + \"_\" + \\\n",
    "                     df['groupclasses'].astype(str) + \"_\" + df['groupclassroom'].astype(str) + \"_\" + \\\n",
    "                     df['careergroups'].astype(str) + \"_\" + df['careercoord'].astype(str) + \"_\" + \\\n",
    "                     df['time'].astype(str)"
   ]
  },
  {
   "cell_type": "markdown",
   "metadata": {},
   "source": [
    "I need 3 divisions of my dataset: train, test and evaluation \\\n",
    "Let's divide them using our stratifying column"
   ]
  },
  {
   "cell_type": "code",
   "execution_count": 8,
   "metadata": {},
   "outputs": [],
   "source": [
    "train_df, temp_df = train_test_split(df, test_size = 0.4, stratify=df[\"stratify_col\"], random_state = 32)"
   ]
  },
  {
   "cell_type": "code",
   "execution_count": 9,
   "metadata": {},
   "outputs": [],
   "source": [
    "test_df, val_df = train_test_split(temp_df, test_size = 0.5, stratify=temp_df[\"stratify_col\"], random_state = 32)"
   ]
  },
  {
   "cell_type": "code",
   "execution_count": 10,
   "metadata": {},
   "outputs": [
    {
     "data": {
      "text/html": [
       "<div>\n",
       "<style scoped>\n",
       "    .dataframe tbody tr th:only-of-type {\n",
       "        vertical-align: middle;\n",
       "    }\n",
       "\n",
       "    .dataframe tbody tr th {\n",
       "        vertical-align: top;\n",
       "    }\n",
       "\n",
       "    .dataframe thead th {\n",
       "        text-align: right;\n",
       "    }\n",
       "</style>\n",
       "<table border=\"1\" class=\"dataframe\">\n",
       "  <thead>\n",
       "    <tr style=\"text-align: right;\">\n",
       "      <th></th>\n",
       "      <th>text</th>\n",
       "      <th>wherestudent</th>\n",
       "      <th>whereadmin</th>\n",
       "      <th>whereprof</th>\n",
       "      <th>whereperson</th>\n",
       "      <th>wherebuild</th>\n",
       "      <th>whereclassroom</th>\n",
       "      <th>classesprofessor</th>\n",
       "      <th>subjectprofessors</th>\n",
       "      <th>studenttutor</th>\n",
       "      <th>grouptutor</th>\n",
       "      <th>classroomoccupied</th>\n",
       "      <th>groupstudents</th>\n",
       "      <th>groupclasses</th>\n",
       "      <th>groupclassroom</th>\n",
       "      <th>careergroups</th>\n",
       "      <th>careercoord</th>\n",
       "      <th>time</th>\n",
       "      <th>stratify_col</th>\n",
       "    </tr>\n",
       "  </thead>\n",
       "  <tbody>\n",
       "    <tr>\n",
       "      <th>1059</th>\n",
       "      <td>What is the status of classroom G982 on next w...</td>\n",
       "      <td>0</td>\n",
       "      <td>0</td>\n",
       "      <td>0</td>\n",
       "      <td>0</td>\n",
       "      <td>0</td>\n",
       "      <td>0</td>\n",
       "      <td>0</td>\n",
       "      <td>0</td>\n",
       "      <td>0</td>\n",
       "      <td>0</td>\n",
       "      <td>1</td>\n",
       "      <td>0</td>\n",
       "      <td>0</td>\n",
       "      <td>0</td>\n",
       "      <td>0</td>\n",
       "      <td>0</td>\n",
       "      <td>1</td>\n",
       "      <td>0_0_0_0_0_0_0_0_0_0_1_0_0_0_0_0_1</td>\n",
       "    </tr>\n",
       "    <tr>\n",
       "      <th>1132</th>\n",
       "      <td>Can you list the groups associated with Cybers...</td>\n",
       "      <td>0</td>\n",
       "      <td>0</td>\n",
       "      <td>0</td>\n",
       "      <td>0</td>\n",
       "      <td>0</td>\n",
       "      <td>0</td>\n",
       "      <td>0</td>\n",
       "      <td>0</td>\n",
       "      <td>0</td>\n",
       "      <td>0</td>\n",
       "      <td>0</td>\n",
       "      <td>0</td>\n",
       "      <td>0</td>\n",
       "      <td>0</td>\n",
       "      <td>1</td>\n",
       "      <td>0</td>\n",
       "      <td>0</td>\n",
       "      <td>0_0_0_0_0_0_0_0_0_0_0_0_0_0_1_0_0</td>\n",
       "    </tr>\n",
       "    <tr>\n",
       "      <th>1156</th>\n",
       "      <td>Can you tell me the different groups in Data E...</td>\n",
       "      <td>0</td>\n",
       "      <td>0</td>\n",
       "      <td>0</td>\n",
       "      <td>0</td>\n",
       "      <td>0</td>\n",
       "      <td>0</td>\n",
       "      <td>0</td>\n",
       "      <td>0</td>\n",
       "      <td>0</td>\n",
       "      <td>0</td>\n",
       "      <td>0</td>\n",
       "      <td>0</td>\n",
       "      <td>0</td>\n",
       "      <td>0</td>\n",
       "      <td>1</td>\n",
       "      <td>0</td>\n",
       "      <td>0</td>\n",
       "      <td>0_0_0_0_0_0_0_0_0_0_0_0_0_0_1_0_0</td>\n",
       "    </tr>\n",
       "    <tr>\n",
       "      <th>412</th>\n",
       "      <td>Can you help me find our university's manager ...</td>\n",
       "      <td>0</td>\n",
       "      <td>1</td>\n",
       "      <td>0</td>\n",
       "      <td>1</td>\n",
       "      <td>0</td>\n",
       "      <td>0</td>\n",
       "      <td>0</td>\n",
       "      <td>0</td>\n",
       "      <td>0</td>\n",
       "      <td>0</td>\n",
       "      <td>0</td>\n",
       "      <td>0</td>\n",
       "      <td>0</td>\n",
       "      <td>0</td>\n",
       "      <td>0</td>\n",
       "      <td>0</td>\n",
       "      <td>0</td>\n",
       "      <td>0_1_0_1_0_0_0_0_0_0_0_0_0_0_0_0_0</td>\n",
       "    </tr>\n",
       "    <tr>\n",
       "      <th>928</th>\n",
       "      <td>I'm looking for the tutor of the group Robotic...</td>\n",
       "      <td>0</td>\n",
       "      <td>0</td>\n",
       "      <td>0</td>\n",
       "      <td>0</td>\n",
       "      <td>0</td>\n",
       "      <td>0</td>\n",
       "      <td>0</td>\n",
       "      <td>0</td>\n",
       "      <td>0</td>\n",
       "      <td>1</td>\n",
       "      <td>0</td>\n",
       "      <td>0</td>\n",
       "      <td>0</td>\n",
       "      <td>0</td>\n",
       "      <td>0</td>\n",
       "      <td>0</td>\n",
       "      <td>0</td>\n",
       "      <td>0_0_0_0_0_0_0_0_0_1_0_0_0_0_0_0_0</td>\n",
       "    </tr>\n",
       "  </tbody>\n",
       "</table>\n",
       "</div>"
      ],
      "text/plain": [
       "                                                   text  wherestudent  \\\n",
       "1059  What is the status of classroom G982 on next w...             0   \n",
       "1132  Can you list the groups associated with Cybers...             0   \n",
       "1156  Can you tell me the different groups in Data E...             0   \n",
       "412   Can you help me find our university's manager ...             0   \n",
       "928   I'm looking for the tutor of the group Robotic...             0   \n",
       "\n",
       "      whereadmin  whereprof  whereperson  wherebuild  whereclassroom  \\\n",
       "1059           0          0            0           0               0   \n",
       "1132           0          0            0           0               0   \n",
       "1156           0          0            0           0               0   \n",
       "412            1          0            1           0               0   \n",
       "928            0          0            0           0               0   \n",
       "\n",
       "      classesprofessor  subjectprofessors  studenttutor  grouptutor  \\\n",
       "1059                 0                  0             0           0   \n",
       "1132                 0                  0             0           0   \n",
       "1156                 0                  0             0           0   \n",
       "412                  0                  0             0           0   \n",
       "928                  0                  0             0           1   \n",
       "\n",
       "      classroomoccupied  groupstudents  groupclasses  groupclassroom  \\\n",
       "1059                  1              0             0               0   \n",
       "1132                  0              0             0               0   \n",
       "1156                  0              0             0               0   \n",
       "412                   0              0             0               0   \n",
       "928                   0              0             0               0   \n",
       "\n",
       "      careergroups  careercoord  time                       stratify_col  \n",
       "1059             0            0     1  0_0_0_0_0_0_0_0_0_0_1_0_0_0_0_0_1  \n",
       "1132             1            0     0  0_0_0_0_0_0_0_0_0_0_0_0_0_0_1_0_0  \n",
       "1156             1            0     0  0_0_0_0_0_0_0_0_0_0_0_0_0_0_1_0_0  \n",
       "412              0            0     0  0_1_0_1_0_0_0_0_0_0_0_0_0_0_0_0_0  \n",
       "928              0            0     0  0_0_0_0_0_0_0_0_0_1_0_0_0_0_0_0_0  "
      ]
     },
     "execution_count": 10,
     "metadata": {},
     "output_type": "execute_result"
    }
   ],
   "source": [
    "train_df.head()"
   ]
  },
  {
   "cell_type": "code",
   "execution_count": 11,
   "metadata": {},
   "outputs": [
    {
     "data": {
      "text/html": [
       "<div>\n",
       "<style scoped>\n",
       "    .dataframe tbody tr th:only-of-type {\n",
       "        vertical-align: middle;\n",
       "    }\n",
       "\n",
       "    .dataframe tbody tr th {\n",
       "        vertical-align: top;\n",
       "    }\n",
       "\n",
       "    .dataframe thead th {\n",
       "        text-align: right;\n",
       "    }\n",
       "</style>\n",
       "<table border=\"1\" class=\"dataframe\">\n",
       "  <thead>\n",
       "    <tr style=\"text-align: right;\">\n",
       "      <th></th>\n",
       "      <th>text</th>\n",
       "      <th>wherestudent</th>\n",
       "      <th>whereadmin</th>\n",
       "      <th>whereprof</th>\n",
       "      <th>whereperson</th>\n",
       "      <th>wherebuild</th>\n",
       "      <th>whereclassroom</th>\n",
       "      <th>classesprofessor</th>\n",
       "      <th>subjectprofessors</th>\n",
       "      <th>studenttutor</th>\n",
       "      <th>grouptutor</th>\n",
       "      <th>classroomoccupied</th>\n",
       "      <th>groupstudents</th>\n",
       "      <th>groupclasses</th>\n",
       "      <th>groupclassroom</th>\n",
       "      <th>careergroups</th>\n",
       "      <th>careercoord</th>\n",
       "      <th>time</th>\n",
       "      <th>stratify_col</th>\n",
       "    </tr>\n",
       "  </thead>\n",
       "  <tbody>\n",
       "    <tr>\n",
       "      <th>1045</th>\n",
       "      <td>Can you tell me if classroom K744 is in use ar...</td>\n",
       "      <td>0</td>\n",
       "      <td>0</td>\n",
       "      <td>0</td>\n",
       "      <td>0</td>\n",
       "      <td>0</td>\n",
       "      <td>0</td>\n",
       "      <td>0</td>\n",
       "      <td>0</td>\n",
       "      <td>0</td>\n",
       "      <td>0</td>\n",
       "      <td>1</td>\n",
       "      <td>0</td>\n",
       "      <td>0</td>\n",
       "      <td>0</td>\n",
       "      <td>0</td>\n",
       "      <td>0</td>\n",
       "      <td>1</td>\n",
       "      <td>0_0_0_0_0_0_0_0_0_0_1_0_0_0_0_0_1</td>\n",
       "    </tr>\n",
       "    <tr>\n",
       "      <th>774</th>\n",
       "      <td>Can you list the courses taught by Smith?</td>\n",
       "      <td>0</td>\n",
       "      <td>0</td>\n",
       "      <td>0</td>\n",
       "      <td>0</td>\n",
       "      <td>0</td>\n",
       "      <td>0</td>\n",
       "      <td>1</td>\n",
       "      <td>0</td>\n",
       "      <td>0</td>\n",
       "      <td>0</td>\n",
       "      <td>0</td>\n",
       "      <td>0</td>\n",
       "      <td>0</td>\n",
       "      <td>0</td>\n",
       "      <td>0</td>\n",
       "      <td>0</td>\n",
       "      <td>0</td>\n",
       "      <td>0_0_0_0_0_0_1_0_0_0_0_0_0_0_0_0_0</td>\n",
       "    </tr>\n",
       "    <tr>\n",
       "      <th>640</th>\n",
       "      <td>I need to meet with Quinn, where can I find th...</td>\n",
       "      <td>0</td>\n",
       "      <td>0</td>\n",
       "      <td>0</td>\n",
       "      <td>1</td>\n",
       "      <td>0</td>\n",
       "      <td>0</td>\n",
       "      <td>0</td>\n",
       "      <td>0</td>\n",
       "      <td>0</td>\n",
       "      <td>0</td>\n",
       "      <td>0</td>\n",
       "      <td>0</td>\n",
       "      <td>0</td>\n",
       "      <td>0</td>\n",
       "      <td>0</td>\n",
       "      <td>0</td>\n",
       "      <td>1</td>\n",
       "      <td>0_0_0_1_0_0_0_0_0_0_0_0_0_0_0_0_1</td>\n",
       "    </tr>\n",
       "    <tr>\n",
       "      <th>13</th>\n",
       "      <td>Is Sarah Johnson in the library this morning?</td>\n",
       "      <td>1</td>\n",
       "      <td>0</td>\n",
       "      <td>0</td>\n",
       "      <td>1</td>\n",
       "      <td>0</td>\n",
       "      <td>0</td>\n",
       "      <td>0</td>\n",
       "      <td>0</td>\n",
       "      <td>0</td>\n",
       "      <td>0</td>\n",
       "      <td>0</td>\n",
       "      <td>0</td>\n",
       "      <td>0</td>\n",
       "      <td>0</td>\n",
       "      <td>0</td>\n",
       "      <td>0</td>\n",
       "      <td>1</td>\n",
       "      <td>1_0_0_1_0_0_0_0_0_0_0_0_0_0_0_0_1</td>\n",
       "    </tr>\n",
       "    <tr>\n",
       "      <th>961</th>\n",
       "      <td>What's the name of the tutor for the Cybersecu...</td>\n",
       "      <td>0</td>\n",
       "      <td>0</td>\n",
       "      <td>0</td>\n",
       "      <td>0</td>\n",
       "      <td>0</td>\n",
       "      <td>0</td>\n",
       "      <td>0</td>\n",
       "      <td>0</td>\n",
       "      <td>0</td>\n",
       "      <td>1</td>\n",
       "      <td>0</td>\n",
       "      <td>0</td>\n",
       "      <td>0</td>\n",
       "      <td>0</td>\n",
       "      <td>0</td>\n",
       "      <td>0</td>\n",
       "      <td>0</td>\n",
       "      <td>0_0_0_0_0_0_0_0_0_1_0_0_0_0_0_0_0</td>\n",
       "    </tr>\n",
       "  </tbody>\n",
       "</table>\n",
       "</div>"
      ],
      "text/plain": [
       "                                                   text  wherestudent  \\\n",
       "1045  Can you tell me if classroom K744 is in use ar...             0   \n",
       "774           Can you list the courses taught by Smith?             0   \n",
       "640   I need to meet with Quinn, where can I find th...             0   \n",
       "13        Is Sarah Johnson in the library this morning?             1   \n",
       "961   What's the name of the tutor for the Cybersecu...             0   \n",
       "\n",
       "      whereadmin  whereprof  whereperson  wherebuild  whereclassroom  \\\n",
       "1045           0          0            0           0               0   \n",
       "774            0          0            0           0               0   \n",
       "640            0          0            1           0               0   \n",
       "13             0          0            1           0               0   \n",
       "961            0          0            0           0               0   \n",
       "\n",
       "      classesprofessor  subjectprofessors  studenttutor  grouptutor  \\\n",
       "1045                 0                  0             0           0   \n",
       "774                  1                  0             0           0   \n",
       "640                  0                  0             0           0   \n",
       "13                   0                  0             0           0   \n",
       "961                  0                  0             0           1   \n",
       "\n",
       "      classroomoccupied  groupstudents  groupclasses  groupclassroom  \\\n",
       "1045                  1              0             0               0   \n",
       "774                   0              0             0               0   \n",
       "640                   0              0             0               0   \n",
       "13                    0              0             0               0   \n",
       "961                   0              0             0               0   \n",
       "\n",
       "      careergroups  careercoord  time                       stratify_col  \n",
       "1045             0            0     1  0_0_0_0_0_0_0_0_0_0_1_0_0_0_0_0_1  \n",
       "774              0            0     0  0_0_0_0_0_0_1_0_0_0_0_0_0_0_0_0_0  \n",
       "640              0            0     1  0_0_0_1_0_0_0_0_0_0_0_0_0_0_0_0_1  \n",
       "13               0            0     1  1_0_0_1_0_0_0_0_0_0_0_0_0_0_0_0_1  \n",
       "961              0            0     0  0_0_0_0_0_0_0_0_0_1_0_0_0_0_0_0_0  "
      ]
     },
     "execution_count": 11,
     "metadata": {},
     "output_type": "execute_result"
    }
   ],
   "source": [
    "test_df.head()"
   ]
  },
  {
   "cell_type": "code",
   "execution_count": 12,
   "metadata": {},
   "outputs": [
    {
     "data": {
      "text/html": [
       "<div>\n",
       "<style scoped>\n",
       "    .dataframe tbody tr th:only-of-type {\n",
       "        vertical-align: middle;\n",
       "    }\n",
       "\n",
       "    .dataframe tbody tr th {\n",
       "        vertical-align: top;\n",
       "    }\n",
       "\n",
       "    .dataframe thead th {\n",
       "        text-align: right;\n",
       "    }\n",
       "</style>\n",
       "<table border=\"1\" class=\"dataframe\">\n",
       "  <thead>\n",
       "    <tr style=\"text-align: right;\">\n",
       "      <th></th>\n",
       "      <th>text</th>\n",
       "      <th>wherestudent</th>\n",
       "      <th>whereadmin</th>\n",
       "      <th>whereprof</th>\n",
       "      <th>whereperson</th>\n",
       "      <th>wherebuild</th>\n",
       "      <th>whereclassroom</th>\n",
       "      <th>classesprofessor</th>\n",
       "      <th>subjectprofessors</th>\n",
       "      <th>studenttutor</th>\n",
       "      <th>grouptutor</th>\n",
       "      <th>classroomoccupied</th>\n",
       "      <th>groupstudents</th>\n",
       "      <th>groupclasses</th>\n",
       "      <th>groupclassroom</th>\n",
       "      <th>careergroups</th>\n",
       "      <th>careercoord</th>\n",
       "      <th>time</th>\n",
       "      <th>stratify_col</th>\n",
       "    </tr>\n",
       "  </thead>\n",
       "  <tbody>\n",
       "    <tr>\n",
       "      <th>1234</th>\n",
       "      <td>I need to know the timetable for the group Dat...</td>\n",
       "      <td>0</td>\n",
       "      <td>0</td>\n",
       "      <td>0</td>\n",
       "      <td>0</td>\n",
       "      <td>0</td>\n",
       "      <td>0</td>\n",
       "      <td>0</td>\n",
       "      <td>0</td>\n",
       "      <td>0</td>\n",
       "      <td>0</td>\n",
       "      <td>0</td>\n",
       "      <td>0</td>\n",
       "      <td>1</td>\n",
       "      <td>0</td>\n",
       "      <td>0</td>\n",
       "      <td>0</td>\n",
       "      <td>0</td>\n",
       "      <td>0_0_0_0_0_0_0_0_0_0_0_0_1_0_0_0_0</td>\n",
       "    </tr>\n",
       "    <tr>\n",
       "      <th>436</th>\n",
       "      <td>I need to locate our secretary David, can you ...</td>\n",
       "      <td>0</td>\n",
       "      <td>1</td>\n",
       "      <td>0</td>\n",
       "      <td>1</td>\n",
       "      <td>0</td>\n",
       "      <td>0</td>\n",
       "      <td>0</td>\n",
       "      <td>0</td>\n",
       "      <td>0</td>\n",
       "      <td>0</td>\n",
       "      <td>0</td>\n",
       "      <td>0</td>\n",
       "      <td>0</td>\n",
       "      <td>0</td>\n",
       "      <td>0</td>\n",
       "      <td>0</td>\n",
       "      <td>1</td>\n",
       "      <td>0_1_0_1_0_0_0_0_0_0_0_0_0_0_0_0_1</td>\n",
       "    </tr>\n",
       "    <tr>\n",
       "      <th>340</th>\n",
       "      <td>Can you help me find student Casey 9:00am?</td>\n",
       "      <td>1</td>\n",
       "      <td>0</td>\n",
       "      <td>0</td>\n",
       "      <td>1</td>\n",
       "      <td>0</td>\n",
       "      <td>0</td>\n",
       "      <td>0</td>\n",
       "      <td>0</td>\n",
       "      <td>0</td>\n",
       "      <td>0</td>\n",
       "      <td>0</td>\n",
       "      <td>0</td>\n",
       "      <td>0</td>\n",
       "      <td>0</td>\n",
       "      <td>0</td>\n",
       "      <td>0</td>\n",
       "      <td>1</td>\n",
       "      <td>1_0_0_1_0_0_0_0_0_0_0_0_0_0_0_0_1</td>\n",
       "    </tr>\n",
       "    <tr>\n",
       "      <th>390</th>\n",
       "      <td>Where's the office of Karen, the director?</td>\n",
       "      <td>0</td>\n",
       "      <td>1</td>\n",
       "      <td>0</td>\n",
       "      <td>1</td>\n",
       "      <td>0</td>\n",
       "      <td>0</td>\n",
       "      <td>0</td>\n",
       "      <td>0</td>\n",
       "      <td>0</td>\n",
       "      <td>0</td>\n",
       "      <td>0</td>\n",
       "      <td>0</td>\n",
       "      <td>0</td>\n",
       "      <td>0</td>\n",
       "      <td>0</td>\n",
       "      <td>0</td>\n",
       "      <td>0</td>\n",
       "      <td>0_1_0_1_0_0_0_0_0_0_0_0_0_0_0_0_0</td>\n",
       "    </tr>\n",
       "    <tr>\n",
       "      <th>648</th>\n",
       "      <td>I need to meet with Jordan, where can I find t...</td>\n",
       "      <td>0</td>\n",
       "      <td>0</td>\n",
       "      <td>0</td>\n",
       "      <td>1</td>\n",
       "      <td>0</td>\n",
       "      <td>0</td>\n",
       "      <td>0</td>\n",
       "      <td>0</td>\n",
       "      <td>0</td>\n",
       "      <td>0</td>\n",
       "      <td>0</td>\n",
       "      <td>0</td>\n",
       "      <td>0</td>\n",
       "      <td>0</td>\n",
       "      <td>0</td>\n",
       "      <td>0</td>\n",
       "      <td>1</td>\n",
       "      <td>0_0_0_1_0_0_0_0_0_0_0_0_0_0_0_0_1</td>\n",
       "    </tr>\n",
       "  </tbody>\n",
       "</table>\n",
       "</div>"
      ],
      "text/plain": [
       "                                                   text  wherestudent  \\\n",
       "1234  I need to know the timetable for the group Dat...             0   \n",
       "436   I need to locate our secretary David, can you ...             0   \n",
       "340          Can you help me find student Casey 9:00am?             1   \n",
       "390          Where's the office of Karen, the director?             0   \n",
       "648   I need to meet with Jordan, where can I find t...             0   \n",
       "\n",
       "      whereadmin  whereprof  whereperson  wherebuild  whereclassroom  \\\n",
       "1234           0          0            0           0               0   \n",
       "436            1          0            1           0               0   \n",
       "340            0          0            1           0               0   \n",
       "390            1          0            1           0               0   \n",
       "648            0          0            1           0               0   \n",
       "\n",
       "      classesprofessor  subjectprofessors  studenttutor  grouptutor  \\\n",
       "1234                 0                  0             0           0   \n",
       "436                  0                  0             0           0   \n",
       "340                  0                  0             0           0   \n",
       "390                  0                  0             0           0   \n",
       "648                  0                  0             0           0   \n",
       "\n",
       "      classroomoccupied  groupstudents  groupclasses  groupclassroom  \\\n",
       "1234                  0              0             1               0   \n",
       "436                   0              0             0               0   \n",
       "340                   0              0             0               0   \n",
       "390                   0              0             0               0   \n",
       "648                   0              0             0               0   \n",
       "\n",
       "      careergroups  careercoord  time                       stratify_col  \n",
       "1234             0            0     0  0_0_0_0_0_0_0_0_0_0_0_0_1_0_0_0_0  \n",
       "436              0            0     1  0_1_0_1_0_0_0_0_0_0_0_0_0_0_0_0_1  \n",
       "340              0            0     1  1_0_0_1_0_0_0_0_0_0_0_0_0_0_0_0_1  \n",
       "390              0            0     0  0_1_0_1_0_0_0_0_0_0_0_0_0_0_0_0_0  \n",
       "648              0            0     1  0_0_0_1_0_0_0_0_0_0_0_0_0_0_0_0_1  "
      ]
     },
     "execution_count": 12,
     "metadata": {},
     "output_type": "execute_result"
    }
   ],
   "source": [
    "val_df.head()"
   ]
  },
  {
   "cell_type": "markdown",
   "metadata": {},
   "source": [
    "We don't need that column anymore"
   ]
  },
  {
   "cell_type": "code",
   "execution_count": 13,
   "metadata": {},
   "outputs": [],
   "source": [
    "train_df.drop(columns = [\"stratify_col\"], inplace=True)\n",
    "val_df.drop(columns = [\"stratify_col\"], inplace=True)\n",
    "test_df.drop(columns = [\"stratify_col\"], inplace=True)"
   ]
  },
  {
   "cell_type": "markdown",
   "metadata": {},
   "source": [
    "Since I am using HuggingFace transformers, I need to load the dataset using their datasets module for their own format \\\n",
    "Here, I save the samples into csv's, then load them using the datasets module"
   ]
  },
  {
   "cell_type": "code",
   "execution_count": 14,
   "metadata": {},
   "outputs": [],
   "source": [
    "train_df.to_csv(\"train.csv\", index=False)"
   ]
  },
  {
   "cell_type": "code",
   "execution_count": 15,
   "metadata": {},
   "outputs": [],
   "source": [
    "val_df.to_csv(\"val.csv\", index=False)\n",
    "test_df.to_csv(\"test.csv\", index=False)"
   ]
  },
  {
   "cell_type": "code",
   "execution_count": 16,
   "metadata": {},
   "outputs": [
    {
     "name": "stderr",
     "output_type": "stream",
     "text": [
      "Downloading data files: 100%|██████████| 3/3 [00:00<00:00, 22753.91it/s]\n",
      "Extracting data files: 100%|██████████| 3/3 [00:00<00:00, 2252.58it/s]\n",
      "Generating train split: 793 examples [00:00, 34477.90 examples/s]\n",
      "Generating test split: 264 examples [00:00, 48984.57 examples/s]\n",
      "Generating validation split: 265 examples [00:00, 52094.61 examples/s]\n"
     ]
    }
   ],
   "source": [
    "dataset = load_dataset(\"csv\", data_files={\"train\": \"train.csv\", \"test\": \"test.csv\", \"validation\": \"val.csv\"})"
   ]
  },
  {
   "cell_type": "code",
   "execution_count": 17,
   "metadata": {},
   "outputs": [
    {
     "data": {
      "text/plain": [
       "DatasetDict({\n",
       "    train: Dataset({\n",
       "        features: ['text', 'wherestudent', 'whereadmin', 'whereprof', 'whereperson', 'wherebuild', 'whereclassroom', 'classesprofessor', 'subjectprofessors', 'studenttutor', 'grouptutor', 'classroomoccupied', 'groupstudents', 'groupclasses', 'groupclassroom', 'careergroups', 'careercoord', 'time'],\n",
       "        num_rows: 793\n",
       "    })\n",
       "    test: Dataset({\n",
       "        features: ['text', 'wherestudent', 'whereadmin', 'whereprof', 'whereperson', 'wherebuild', 'whereclassroom', 'classesprofessor', 'subjectprofessors', 'studenttutor', 'grouptutor', 'classroomoccupied', 'groupstudents', 'groupclasses', 'groupclassroom', 'careergroups', 'careercoord', 'time'],\n",
       "        num_rows: 264\n",
       "    })\n",
       "    validation: Dataset({\n",
       "        features: ['text', 'wherestudent', 'whereadmin', 'whereprof', 'whereperson', 'wherebuild', 'whereclassroom', 'classesprofessor', 'subjectprofessors', 'studenttutor', 'grouptutor', 'classroomoccupied', 'groupstudents', 'groupclasses', 'groupclassroom', 'careergroups', 'careercoord', 'time'],\n",
       "        num_rows: 265\n",
       "    })\n",
       "})"
      ]
     },
     "execution_count": 17,
     "metadata": {},
     "output_type": "execute_result"
    }
   ],
   "source": [
    "dataset"
   ]
  },
  {
   "cell_type": "markdown",
   "metadata": {},
   "source": [
    "Now I need a function to convert my dataset with the use of the tokenizer \\\n",
    "The model can only be trained using the information the tokenizer returns"
   ]
  },
  {
   "cell_type": "code",
   "execution_count": 18,
   "metadata": {},
   "outputs": [],
   "source": [
    "def preprocess_data(textgroup):\n",
    "    text = textgroup[\"text\"]\n",
    "    encoding = tokenizer(text, padding = \"max_length\", truncation = True, max_length = 128)\n",
    "    labels_batch = {k: textgroup[k] for k in textgroup.keys() if k in labels}\n",
    "    labels_matrix = np.zeros((len(text), len(labels)))\n",
    "    for idx, label in enumerate(labels):\n",
    "        labels_matrix[:, idx] = labels_batch[label]\n",
    "\n",
    "    encoding[\"labels\"] = labels_matrix.tolist()\n",
    "    return encoding"
   ]
  },
  {
   "cell_type": "markdown",
   "metadata": {},
   "source": [
    "Mapping the entire dataset with the tokenizer"
   ]
  },
  {
   "cell_type": "code",
   "execution_count": 19,
   "metadata": {},
   "outputs": [
    {
     "name": "stderr",
     "output_type": "stream",
     "text": [
      "Map: 100%|██████████| 793/793 [00:00<00:00, 3537.49 examples/s]\n",
      "Map: 100%|██████████| 264/264 [00:00<00:00, 3805.66 examples/s]\n",
      "Map: 100%|██████████| 265/265 [00:00<00:00, 4246.01 examples/s]\n"
     ]
    }
   ],
   "source": [
    "encoded_dataset = dataset.map(preprocess_data, batched = True, remove_columns=dataset[\"train\"].column_names)"
   ]
  },
  {
   "cell_type": "markdown",
   "metadata": {},
   "source": [
    "Concept: attention mask \\\n",
    "This is what the tokenizer returns to tell the model exactly what it should focus on \\\n",
    "Tokens are added for padding for mathematical purposes and these do not matter \\\n",
    "The attention mask tells the model what does matter"
   ]
  },
  {
   "cell_type": "code",
   "execution_count": 20,
   "metadata": {},
   "outputs": [
    {
     "data": {
      "text/plain": [
       "DatasetDict({\n",
       "    train: Dataset({\n",
       "        features: ['input_ids', 'token_type_ids', 'attention_mask', 'labels'],\n",
       "        num_rows: 793\n",
       "    })\n",
       "    test: Dataset({\n",
       "        features: ['input_ids', 'token_type_ids', 'attention_mask', 'labels'],\n",
       "        num_rows: 264\n",
       "    })\n",
       "    validation: Dataset({\n",
       "        features: ['input_ids', 'token_type_ids', 'attention_mask', 'labels'],\n",
       "        num_rows: 265\n",
       "    })\n",
       "})"
      ]
     },
     "execution_count": 20,
     "metadata": {},
     "output_type": "execute_result"
    }
   ],
   "source": [
    "encoded_dataset"
   ]
  },
  {
   "cell_type": "code",
   "execution_count": 21,
   "metadata": {},
   "outputs": [
    {
     "data": {
      "text/plain": [
       "dict_keys(['input_ids', 'token_type_ids', 'attention_mask', 'labels'])"
      ]
     },
     "execution_count": 21,
     "metadata": {},
     "output_type": "execute_result"
    }
   ],
   "source": [
    "encoded_dataset[\"train\"][0].keys()"
   ]
  },
  {
   "cell_type": "code",
   "execution_count": 22,
   "metadata": {},
   "outputs": [
    {
     "data": {
      "text/plain": [
       "'[CLS] what is the status of classroom g982 on next week? [SEP] [PAD] [PAD] [PAD] [PAD] [PAD] [PAD] [PAD] [PAD] [PAD] [PAD] [PAD] [PAD] [PAD] [PAD] [PAD] [PAD] [PAD] [PAD] [PAD] [PAD] [PAD] [PAD] [PAD] [PAD] [PAD] [PAD] [PAD] [PAD] [PAD] [PAD] [PAD] [PAD] [PAD] [PAD] [PAD] [PAD] [PAD] [PAD] [PAD] [PAD] [PAD] [PAD] [PAD] [PAD] [PAD] [PAD] [PAD] [PAD] [PAD] [PAD] [PAD] [PAD] [PAD] [PAD] [PAD] [PAD] [PAD] [PAD] [PAD] [PAD] [PAD] [PAD] [PAD] [PAD] [PAD] [PAD] [PAD] [PAD] [PAD] [PAD] [PAD] [PAD] [PAD] [PAD] [PAD] [PAD] [PAD] [PAD] [PAD] [PAD] [PAD] [PAD] [PAD] [PAD] [PAD] [PAD] [PAD] [PAD] [PAD] [PAD] [PAD] [PAD] [PAD] [PAD] [PAD] [PAD] [PAD] [PAD] [PAD] [PAD] [PAD] [PAD] [PAD] [PAD] [PAD] [PAD] [PAD] [PAD] [PAD] [PAD] [PAD] [PAD]'"
      ]
     },
     "execution_count": 22,
     "metadata": {},
     "output_type": "execute_result"
    }
   ],
   "source": [
    "tokenizer.decode(encoded_dataset[\"train\"][0][\"input_ids\"])"
   ]
  },
  {
   "cell_type": "markdown",
   "metadata": {},
   "source": [
    "Checking if encoding was correct for the labels"
   ]
  },
  {
   "cell_type": "code",
   "execution_count": 23,
   "metadata": {},
   "outputs": [
    {
     "data": {
      "text/plain": [
       "['classroomoccupied', 'time']"
      ]
     },
     "execution_count": 23,
     "metadata": {},
     "output_type": "execute_result"
    }
   ],
   "source": [
    "[id2label[idx] for idx, label in enumerate(encoded_dataset[\"train\"][0]['labels']) if label == 1.0]"
   ]
  },
  {
   "cell_type": "code",
   "execution_count": 24,
   "metadata": {},
   "outputs": [
    {
     "data": {
      "text/plain": [
       "[0.0,\n",
       " 0.0,\n",
       " 0.0,\n",
       " 0.0,\n",
       " 0.0,\n",
       " 0.0,\n",
       " 0.0,\n",
       " 0.0,\n",
       " 0.0,\n",
       " 0.0,\n",
       " 1.0,\n",
       " 0.0,\n",
       " 0.0,\n",
       " 0.0,\n",
       " 0.0,\n",
       " 0.0,\n",
       " 1.0]"
      ]
     },
     "execution_count": 24,
     "metadata": {},
     "output_type": "execute_result"
    }
   ],
   "source": [
    "encoded_dataset[\"train\"][0][\"labels\"]"
   ]
  },
  {
   "cell_type": "markdown",
   "metadata": {},
   "source": [
    "We format it using torch. \\\n",
    "This turns our labels into tensors"
   ]
  },
  {
   "cell_type": "code",
   "execution_count": 25,
   "metadata": {},
   "outputs": [],
   "source": [
    "encoded_dataset.set_format(\"torch\")"
   ]
  },
  {
   "cell_type": "code",
   "execution_count": 26,
   "metadata": {},
   "outputs": [
    {
     "data": {
      "text/plain": [
       "tensor([0., 0., 0., 0., 0., 0., 0., 0., 0., 0., 1., 0., 0., 0., 0., 0., 1.])"
      ]
     },
     "execution_count": 26,
     "metadata": {},
     "output_type": "execute_result"
    }
   ],
   "source": [
    "encoded_dataset[\"train\"][0][\"labels\"]"
   ]
  },
  {
   "cell_type": "markdown",
   "metadata": {},
   "source": [
    "Loading BERT model for multi label classification and passing all arguments it needs"
   ]
  },
  {
   "cell_type": "code",
   "execution_count": 27,
   "metadata": {},
   "outputs": [
    {
     "name": "stderr",
     "output_type": "stream",
     "text": [
      "Some weights of BertForSequenceClassification were not initialized from the model checkpoint at bert-base-uncased and are newly initialized: ['classifier.bias', 'classifier.weight']\n",
      "You should probably TRAIN this model on a down-stream task to be able to use it for predictions and inference.\n"
     ]
    }
   ],
   "source": [
    "model = AutoModelForSequenceClassification.from_pretrained(\"bert-base-uncased\", \n",
    "                                                           problem_type = \"multi_label_classification\", \n",
    "                                                           num_labels = len(labels), \n",
    "                                                           id2label = id2label,\n",
    "                                                           label2id = label2id)"
   ]
  },
  {
   "cell_type": "markdown",
   "metadata": {},
   "source": [
    "Batch size represents the amount of data used per iteration \\\n",
    "f1_score is a metric commonly used in these problems in most sources I read"
   ]
  },
  {
   "cell_type": "code",
   "execution_count": 28,
   "metadata": {},
   "outputs": [],
   "source": [
    "batch_size = 8\n",
    "metric_name = \"f1\""
   ]
  },
  {
   "cell_type": "markdown",
   "metadata": {},
   "source": [
    "Setting training arguments, most of these I chose due to tutorials and recommendations \\\n",
    "and even after further reading on what they are, they seemed like good picks \\\n",
    "However, in this iteration I had more data than the previous one \\\n",
    "so I saw it fitting to up the number of epochs for better results."
   ]
  },
  {
   "cell_type": "code",
   "execution_count": 29,
   "metadata": {},
   "outputs": [],
   "source": [
    "args = TrainingArguments(\n",
    "    f\"bert-upy-questions\",\n",
    "    evaluation_strategy=\"epoch\",\n",
    "    save_strategy=\"epoch\",\n",
    "    learning_rate=2e-5,\n",
    "    per_device_train_batch_size=batch_size,\n",
    "    per_device_eval_batch_size=batch_size,\n",
    "    num_train_epochs=8,\n",
    "    weight_decay=0.01,\n",
    "    load_best_model_at_end=True,\n",
    "    metric_for_best_model=metric_name\n",
    ")"
   ]
  },
  {
   "cell_type": "markdown",
   "metadata": {},
   "source": [
    "While f1 is the deciding metric, it is good to have multiple metrics to have better insight \\\n",
    "We will define a function with multiple recommended metrics"
   ]
  },
  {
   "cell_type": "code",
   "execution_count": 30,
   "metadata": {},
   "outputs": [],
   "source": [
    "def metrics(predictions, labels, threshold = 0.5):\n",
    "    sigmoid = torch.nn.Sigmoid()\n",
    "    probs = sigmoid(torch.Tensor(predictions))\n",
    "    y_pred = np.zeros(probs.shape)\n",
    "    y_pred[np.where(probs >= threshold)] = 1\n",
    "    y_true = labels\n",
    "    f1_micro_average = f1_score(y_true = y_true, y_pred = y_pred, average = \"micro\")\n",
    "    roc_auc = roc_auc_score(y_true, y_pred, average = \"micro\")\n",
    "    accuracy = accuracy_score(y_true, y_pred)\n",
    "    metrics = {\"f1\": f1_micro_average,\n",
    "               \"roc_auc\": roc_auc,\n",
    "               \"acc\": accuracy}\n",
    "    return metrics"
   ]
  },
  {
   "cell_type": "markdown",
   "metadata": {},
   "source": [
    "And another function that calculates them per evaluation"
   ]
  },
  {
   "cell_type": "code",
   "execution_count": 31,
   "metadata": {},
   "outputs": [],
   "source": [
    "def calculate_metrics(p: EvalPrediction):\n",
    "    preds = p.predictions[0] if isinstance(p.predictions, tuple) else p.predictions\n",
    "    result = metrics(predictions = preds, labels = p.label_ids)\n",
    "    return result"
   ]
  },
  {
   "cell_type": "markdown",
   "metadata": {},
   "source": [
    "Checking everything is in tensor format"
   ]
  },
  {
   "cell_type": "code",
   "execution_count": 32,
   "metadata": {},
   "outputs": [
    {
     "data": {
      "text/plain": [
       "'torch.FloatTensor'"
      ]
     },
     "execution_count": 32,
     "metadata": {},
     "output_type": "execute_result"
    }
   ],
   "source": [
    "encoded_dataset[\"train\"][0][\"labels\"].type()"
   ]
  },
  {
   "cell_type": "code",
   "execution_count": 33,
   "metadata": {},
   "outputs": [
    {
     "data": {
      "text/plain": [
       "tensor([ 101, 2054, 2003, 1996, 3570, 1997, 9823, 1043, 2683, 2620, 2475, 2006,\n",
       "        2279, 2733, 1029,  102,    0,    0,    0,    0,    0,    0,    0,    0,\n",
       "           0,    0,    0,    0,    0,    0,    0,    0,    0,    0,    0,    0,\n",
       "           0,    0,    0,    0,    0,    0,    0,    0,    0,    0,    0,    0,\n",
       "           0,    0,    0,    0,    0,    0,    0,    0,    0,    0,    0,    0,\n",
       "           0,    0,    0,    0,    0,    0,    0,    0,    0,    0,    0,    0,\n",
       "           0,    0,    0,    0,    0,    0,    0,    0,    0,    0,    0,    0,\n",
       "           0,    0,    0,    0,    0,    0,    0,    0,    0,    0,    0,    0,\n",
       "           0,    0,    0,    0,    0,    0,    0,    0,    0,    0,    0,    0,\n",
       "           0,    0,    0,    0,    0,    0,    0,    0,    0,    0,    0,    0,\n",
       "           0,    0,    0,    0,    0,    0,    0,    0])"
      ]
     },
     "execution_count": 33,
     "metadata": {},
     "output_type": "execute_result"
    }
   ],
   "source": [
    "encoded_dataset[\"train\"][\"input_ids\"][0]"
   ]
  },
  {
   "cell_type": "markdown",
   "metadata": {},
   "source": [
    "Testing base model with an entry to see everything works"
   ]
  },
  {
   "cell_type": "code",
   "execution_count": 34,
   "metadata": {},
   "outputs": [
    {
     "name": "stderr",
     "output_type": "stream",
     "text": [
      "We strongly recommend passing in an `attention_mask` since your input_ids may be padded. See https://huggingface.co/docs/transformers/troubleshooting#incorrect-output-when-padding-tokens-arent-masked.\n"
     ]
    },
    {
     "data": {
      "text/plain": [
       "SequenceClassifierOutput(loss=tensor(0.7623, grad_fn=<BinaryCrossEntropyWithLogitsBackward0>), logits=tensor([[-0.0262,  0.1523,  0.0620, -0.1493, -0.1069, -0.2126,  0.5220,  0.0862,\n",
       "         -0.1255,  0.6532,  0.2547, -0.2019,  0.3443,  0.0439,  0.6699,  0.0794,\n",
       "         -0.4032]], grad_fn=<AddmmBackward0>), hidden_states=None, attentions=None)"
      ]
     },
     "execution_count": 34,
     "metadata": {},
     "output_type": "execute_result"
    }
   ],
   "source": [
    "outputs = model(input_ids = encoded_dataset[\"train\"][\"input_ids\"][0].unsqueeze(0), labels = encoded_dataset[\"train\"][0][\"labels\"].unsqueeze(0))\n",
    "outputs"
   ]
  },
  {
   "cell_type": "markdown",
   "metadata": {},
   "source": [
    "Now, a trainer instance is created using the training arguments previously created \\\n",
    "We pass the dataset divisions accordingly and our metrics function."
   ]
  },
  {
   "cell_type": "code",
   "execution_count": 35,
   "metadata": {},
   "outputs": [],
   "source": [
    "trainer = Trainer(\n",
    "    model,\n",
    "    args,\n",
    "    train_dataset=encoded_dataset[\"train\"],\n",
    "    eval_dataset=encoded_dataset[\"validation\"],\n",
    "    tokenizer = tokenizer,\n",
    "    compute_metrics=calculate_metrics\n",
    ")"
   ]
  },
  {
   "cell_type": "markdown",
   "metadata": {},
   "source": [
    "Training begins"
   ]
  },
  {
   "cell_type": "code",
   "execution_count": 36,
   "metadata": {},
   "outputs": [
    {
     "name": "stderr",
     "output_type": "stream",
     "text": [
      "  0%|          | 0/800 [00:00<?, ?it/s]"
     ]
    },
    {
     "name": "stderr",
     "output_type": "stream",
     "text": [
      "                                                 \n",
      " 12%|█▎        | 100/800 [07:29<38:38,  3.31s/it]"
     ]
    },
    {
     "name": "stdout",
     "output_type": "stream",
     "text": [
      "{'eval_loss': 0.27231353521347046, 'eval_f1': 0.0, 'eval_roc_auc': 0.5, 'eval_acc': 0.0, 'eval_runtime': 35.4148, 'eval_samples_per_second': 7.483, 'eval_steps_per_second': 0.96, 'epoch': 1.0}\n"
     ]
    },
    {
     "name": "stderr",
     "output_type": "stream",
     "text": [
      "                                                   \n",
      " 25%|██▌       | 200/800 [15:03<33:19,  3.33s/it]"
     ]
    },
    {
     "name": "stdout",
     "output_type": "stream",
     "text": [
      "{'eval_loss': 0.20108956098556519, 'eval_f1': 0.546112115732369, 'eval_roc_auc': 0.6878109452736318, 'eval_acc': 0.09433962264150944, 'eval_runtime': 35.3291, 'eval_samples_per_second': 7.501, 'eval_steps_per_second': 0.962, 'epoch': 2.0}\n"
     ]
    },
    {
     "name": "stderr",
     "output_type": "stream",
     "text": [
      "                                                   \n",
      " 38%|███▊      | 300/800 [22:43<27:38,  3.32s/it]"
     ]
    },
    {
     "name": "stdout",
     "output_type": "stream",
     "text": [
      "{'eval_loss': 0.16297130286693573, 'eval_f1': 0.6089965397923875, 'eval_roc_auc': 0.7189054726368159, 'eval_acc': 0.1471698113207547, 'eval_runtime': 35.3268, 'eval_samples_per_second': 7.501, 'eval_steps_per_second': 0.962, 'epoch': 3.0}\n"
     ]
    },
    {
     "name": "stderr",
     "output_type": "stream",
     "text": [
      "                                                   \n",
      " 50%|█████     | 400/800 [30:25<26:09,  3.92s/it]"
     ]
    },
    {
     "name": "stdout",
     "output_type": "stream",
     "text": [
      "{'eval_loss': 0.1368376463651657, 'eval_f1': 0.6754530477759473, 'eval_roc_auc': 0.7549751243781094, 'eval_acc': 0.25660377358490566, 'eval_runtime': 36.7333, 'eval_samples_per_second': 7.214, 'eval_steps_per_second': 0.926, 'epoch': 4.0}\n"
     ]
    },
    {
     "name": "stderr",
     "output_type": "stream",
     "text": [
      " 62%|██████▎   | 500/800 [37:39<16:44,  3.35s/it]  "
     ]
    },
    {
     "name": "stdout",
     "output_type": "stream",
     "text": [
      "{'loss': 0.2265, 'learning_rate': 7.500000000000001e-06, 'epoch': 5.0}\n"
     ]
    },
    {
     "name": "stderr",
     "output_type": "stream",
     "text": [
      "                                                 \n",
      " 62%|██████▎   | 500/800 [38:16<16:44,  3.35s/it]"
     ]
    },
    {
     "name": "stdout",
     "output_type": "stream",
     "text": [
      "{'eval_loss': 0.11812180280685425, 'eval_f1': 0.8053491827637445, 'eval_roc_auc': 0.8370646766169154, 'eval_acc': 0.5056603773584906, 'eval_runtime': 36.7887, 'eval_samples_per_second': 7.203, 'eval_steps_per_second': 0.924, 'epoch': 5.0}\n"
     ]
    },
    {
     "name": "stderr",
     "output_type": "stream",
     "text": [
      "                                                   \n",
      " 75%|███████▌  | 600/800 [45:58<11:03,  3.32s/it]"
     ]
    },
    {
     "name": "stdout",
     "output_type": "stream",
     "text": [
      "{'eval_loss': 0.10685865581035614, 'eval_f1': 0.9090909090909091, 'eval_roc_auc': 0.9166666666666667, 'eval_acc': 0.7471698113207547, 'eval_runtime': 35.6327, 'eval_samples_per_second': 7.437, 'eval_steps_per_second': 0.954, 'epoch': 6.0}\n"
     ]
    },
    {
     "name": "stderr",
     "output_type": "stream",
     "text": [
      "                                                 \n",
      " 88%|████████▊ | 700/800 [54:00<05:32,  3.32s/it]"
     ]
    },
    {
     "name": "stdout",
     "output_type": "stream",
     "text": [
      "{'eval_loss': 0.1001143828034401, 'eval_f1': 0.8940852819807428, 'eval_roc_auc': 0.9042288557213931, 'eval_acc': 0.7094339622641509, 'eval_runtime': 35.0853, 'eval_samples_per_second': 7.553, 'eval_steps_per_second': 0.969, 'epoch': 7.0}\n"
     ]
    },
    {
     "name": "stderr",
     "output_type": "stream",
     "text": [
      "                                                   \n",
      "100%|██████████| 800/800 [1:01:35<00:00,  3.30s/it]"
     ]
    },
    {
     "name": "stdout",
     "output_type": "stream",
     "text": [
      "{'eval_loss': 0.09787110984325409, 'eval_f1': 0.9135135135135135, 'eval_roc_auc': 0.9203980099502487, 'eval_acc': 0.7584905660377359, 'eval_runtime': 35.8301, 'eval_samples_per_second': 7.396, 'eval_steps_per_second': 0.949, 'epoch': 8.0}\n"
     ]
    },
    {
     "name": "stderr",
     "output_type": "stream",
     "text": [
      "100%|██████████| 800/800 [1:01:39<00:00,  4.62s/it]"
     ]
    },
    {
     "name": "stdout",
     "output_type": "stream",
     "text": [
      "{'train_runtime': 3699.8822, 'train_samples_per_second': 1.715, 'train_steps_per_second': 0.216, 'train_loss': 0.182926983833313, 'epoch': 8.0}\n"
     ]
    },
    {
     "name": "stderr",
     "output_type": "stream",
     "text": [
      "\n"
     ]
    },
    {
     "data": {
      "text/plain": [
       "TrainOutput(global_step=800, training_loss=0.182926983833313, metrics={'train_runtime': 3699.8822, 'train_samples_per_second': 1.715, 'train_steps_per_second': 0.216, 'train_loss': 0.182926983833313, 'epoch': 8.0})"
      ]
     },
     "execution_count": 36,
     "metadata": {},
     "output_type": "execute_result"
    }
   ],
   "source": [
    "trainer.train()"
   ]
  },
  {
   "cell_type": "markdown",
   "metadata": {},
   "source": [
    "Best model is saved after training \\\n",
    "Let's check its final score"
   ]
  },
  {
   "cell_type": "code",
   "execution_count": 37,
   "metadata": {},
   "outputs": [
    {
     "name": "stderr",
     "output_type": "stream",
     "text": [
      "100%|██████████| 34/34 [00:35<00:00,  1.05s/it]\n"
     ]
    },
    {
     "data": {
      "text/plain": [
       "{'eval_loss': 0.09787110984325409,\n",
       " 'eval_f1': 0.9135135135135135,\n",
       " 'eval_roc_auc': 0.9203980099502487,\n",
       " 'eval_acc': 0.7584905660377359,\n",
       " 'eval_runtime': 37.0883,\n",
       " 'eval_samples_per_second': 7.145,\n",
       " 'eval_steps_per_second': 0.917,\n",
       " 'epoch': 8.0}"
      ]
     },
     "execution_count": 37,
     "metadata": {},
     "output_type": "execute_result"
    }
   ],
   "source": [
    "trainer.evaluate()"
   ]
  },
  {
   "cell_type": "markdown",
   "metadata": {},
   "source": [
    "Seems very accurate "
   ]
  },
  {
   "cell_type": "code",
   "execution_count": 50,
   "metadata": {},
   "outputs": [],
   "source": [
    "prompt = \"I would like to meet the director in the afternoon\"\n",
    "encoding = tokenizer(prompt, return_tensors=\"pt\")\n",
    "encoding = {k: v.to(trainer.model.device) for k,v in encoding.items()}\n",
    "outputs = trainer.model(**encoding)"
   ]
  },
  {
   "cell_type": "code",
   "execution_count": 51,
   "metadata": {},
   "outputs": [
    {
     "data": {
      "text/plain": [
       "torch.Size([1, 17])"
      ]
     },
     "execution_count": 51,
     "metadata": {},
     "output_type": "execute_result"
    }
   ],
   "source": [
    "logits = outputs.logits\n",
    "logits.shape"
   ]
  },
  {
   "cell_type": "code",
   "execution_count": 52,
   "metadata": {},
   "outputs": [
    {
     "name": "stdout",
     "output_type": "stream",
     "text": [
      "['whereadmin', 'whereperson', 'time']\n"
     ]
    }
   ],
   "source": [
    "sigmoid = torch.nn.Sigmoid()\n",
    "probs = sigmoid(logits.squeeze().cpu())\n",
    "predictions = np.zeros(probs.shape)\n",
    "predictions[np.where(probs >= 0.5)] = 1\n",
    "# turn predicted id's into actual label names\n",
    "predicted_labels = [id2label[idx] for idx, label in enumerate(predictions) if label == 1.0]\n",
    "print(predicted_labels)"
   ]
  },
  {
   "cell_type": "markdown",
   "metadata": {},
   "source": [
    "After testing multiple prompts, it seems to get it right most of the times \\\n",
    "Let's save our model"
   ]
  },
  {
   "cell_type": "code",
   "execution_count": 53,
   "metadata": {},
   "outputs": [],
   "source": [
    "trainer.save_model()"
   ]
  }
 ],
 "metadata": {
  "kernelspec": {
   "display_name": "nlpupy_env",
   "language": "python",
   "name": "python3"
  },
  "language_info": {
   "codemirror_mode": {
    "name": "ipython",
    "version": 3
   },
   "file_extension": ".py",
   "mimetype": "text/x-python",
   "name": "python",
   "nbconvert_exporter": "python",
   "pygments_lexer": "ipython3",
   "version": "3.11.2"
  }
 },
 "nbformat": 4,
 "nbformat_minor": 2
}
